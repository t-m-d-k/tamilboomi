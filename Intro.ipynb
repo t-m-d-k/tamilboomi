{
 "cells": [
  {
   "cell_type": "code",
   "execution_count": 1,
   "metadata": {},
   "outputs": [
    {
     "name": "stdout",
     "output_type": "stream",
     "text": [
      "Hello\n"
     ]
    }
   ],
   "source": [
    "print(\"Hello\")"
   ]
  },
  {
   "cell_type": "code",
   "execution_count": 11,
   "metadata": {},
   "outputs": [
    {
     "name": "stdout",
     "output_type": "stream",
     "text": [
      "Hi\n",
      "Hello\n",
      "Welcome\n"
     ]
    }
   ],
   "source": [
    "#this is used to print the statement \n",
    "print(\"Hi\")\n",
    "print(\"Hello\")\n",
    "print(\"Welcome\")"
   ]
  },
  {
   "cell_type": "code",
   "execution_count": 12,
   "metadata": {},
   "outputs": [
    {
     "name": "stdout",
     "output_type": "stream",
     "text": [
      "Hi\n",
      "Hello\n",
      "Welcome\n"
     ]
    }
   ],
   "source": [
    "# \\ - escape charector\n",
    "# n - newline - nextline\n",
    "# t - tab\n",
    "# b - backspace \n",
    "print(\"Hi\\nHello\\nWelcome\")"
   ]
  },
  {
   "cell_type": "code",
   "execution_count": 13,
   "metadata": {},
   "outputs": [
    {
     "name": "stdout",
     "output_type": "stream",
     "text": [
      "Hi\tHello\tWelcome\n"
     ]
    }
   ],
   "source": [
    "print(\"Hi\\tHello\\tWelcome\")"
   ]
  },
  {
   "cell_type": "code",
   "execution_count": 14,
   "metadata": {},
   "outputs": [
    {
     "name": "stdout",
     "output_type": "stream",
     "text": [
      "Hi \bHello \bWelcome\n"
     ]
    }
   ],
   "source": [
    "print(\"Hi \\bHello \\bWelcome\")"
   ]
  },
  {
   "cell_type": "code",
   "execution_count": 8,
   "metadata": {},
   "outputs": [],
   "source": [
    "## two types of comment \n",
    "## first : single line comment : uses hash symbol  # \n",
    "## second :multi line comment : has three double quotes at start and three double quotes at end "
   ]
  },
  {
   "cell_type": "code",
   "execution_count": 9,
   "metadata": {},
   "outputs": [
    {
     "data": {
      "text/plain": [
       "'\\nAuthor  : dk\\ndate : \\ndescription :\\nproject : \\njira :\\n'"
      ]
     },
     "execution_count": 9,
     "metadata": {},
     "output_type": "execute_result"
    }
   ],
   "source": [
    "\"\"\"\n",
    "Author  : dk\n",
    "date : \n",
    "description :\n",
    "project : \n",
    "jira :\n",
    "\"\"\""
   ]
  },
  {
   "cell_type": "code",
   "execution_count": 20,
   "metadata": {},
   "outputs": [
    {
     "name": "stderr",
     "output_type": "stream",
     "text": [
      "Hello\n",
      "Error has occured \n",
      " this is just for demo purpuse \n",
      " checking backslash n is working or not\n",
      "This is an warning\n",
      "This is an critical error\n"
     ]
    }
   ],
   "source": [
    "import logging\n",
    "logger = logging.getLogger()\n",
    "logger.error(\"Hello\")\n",
    "logger.error(\"Error has occured \\n this is just for demo purpuse \\n checking backslash n is working or not\")\n",
    "logger.warning(\"This is an warning\")\n",
    "logger.critical(\"This is an critical error\")"
   ]
  },
  {
   "cell_type": "code",
   "execution_count": null,
   "metadata": {},
   "outputs": [],
   "source": []
  }
 ],
 "metadata": {
  "kernelspec": {
   "display_name": "Python 3",
   "language": "python",
   "name": "python3"
  },
  "language_info": {
   "codemirror_mode": {
    "name": "ipython",
    "version": 3
   },
   "file_extension": ".py",
   "mimetype": "text/x-python",
   "name": "python",
   "nbconvert_exporter": "python",
   "pygments_lexer": "ipython3",
   "version": "3.7.6"
  }
 },
 "nbformat": 4,
 "nbformat_minor": 4
}
